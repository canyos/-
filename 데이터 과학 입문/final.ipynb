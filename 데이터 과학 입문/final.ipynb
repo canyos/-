{
  "nbformat": 4,
  "nbformat_minor": 0,
  "metadata": {
    "colab": {
      "provenance": [],
      "toc_visible": true
    },
    "kernelspec": {
      "name": "python3",
      "display_name": "Python 3"
    },
    "language_info": {
      "name": "python"
    }
  },
  "cells": [
    {
      "cell_type": "markdown",
      "source": [
        "# IDS 2023 Final Exam"
      ],
      "metadata": {
        "id": "Z1leSb8gzOKh"
      }
    },
    {
      "cell_type": "markdown",
      "source": [
        "Please replace the \"empty\" in the file name field with your student ID. For instance, \"IDS2023_final_202255123.ipynb\". Once you have finished, **you will need to upload this file to PLATO.**\n",
        "\n",
        "For sub-questions (a) to (g), please utilize the code blocks given below. If necessary, you can include additional code blocks.\n",
        "\n",
        "Remember to record your answers on the answer sheet and not forget to submit it."
      ],
      "metadata": {
        "id": "nzSrmwWUzUS1"
      }
    },
    {
      "cell_type": "markdown",
      "source": [
        "## Import packages"
      ],
      "metadata": {
        "id": "i5MgrJpruvJq"
      }
    },
    {
      "cell_type": "code",
      "execution_count": 1,
      "metadata": {
        "id": "y67M1GdsyOcl"
      },
      "outputs": [],
      "source": [
        "import pandas as pd\n",
        "import numpy as np\n",
        "\n",
        "def percentile(data, p):\n",
        "  return np.percentile(data, p, method='inverted_cdf')\n",
        "\n",
        "def sample_proportions(sample_size, probabilities):\n",
        "\treturn np.random.multinomial(sample_size, probabilities)/sample_size"
      ]
    },
    {
      "cell_type": "markdown",
      "source": [
        "# Newborn baby weight sample\n"
      ],
      "metadata": {
        "id": "akd_5pnvvUvx"
      }
    },
    {
      "cell_type": "code",
      "source": [
        "path_data = \"https://raw.githubusercontent.com/mlee-pnu/IDS/main/data/\"\n",
        "baby = pd.read_csv(path_data + 'baby.csv')\n",
        "sampled_weight = baby['Birth Weight']"
      ],
      "metadata": {
        "id": "i9-kmR0I7w-n"
      },
      "execution_count": 2,
      "outputs": []
    },
    {
      "cell_type": "markdown",
      "source": [
        "## Q19"
      ],
      "metadata": {
        "id": "tMr9mFlpwAKW"
      }
    },
    {
      "cell_type": "code",
      "source": [
        "# TODO\n",
        "sampled_weight"
      ],
      "metadata": {
        "id": "7zhmzqJ-xkgG",
        "colab": {
          "base_uri": "https://localhost:8080/"
        },
        "outputId": "7bedf326-1f84-4c48-f09e-71c94d76ca20"
      },
      "execution_count": 3,
      "outputs": [
        {
          "output_type": "execute_result",
          "data": {
            "text/plain": [
              "0       120\n",
              "1       113\n",
              "2       128\n",
              "3       108\n",
              "4       136\n",
              "       ... \n",
              "1169    113\n",
              "1170    128\n",
              "1171    130\n",
              "1172    125\n",
              "1173    117\n",
              "Name: Birth Weight, Length: 1174, dtype: int64"
            ]
          },
          "metadata": {},
          "execution_count": 3
        }
      ]
    },
    {
      "cell_type": "markdown",
      "source": [
        "## Q20"
      ],
      "metadata": {
        "id": "UVNYwfQ3lcii"
      }
    },
    {
      "cell_type": "code",
      "source": [
        "# TODO\n",
        "avg = np.average(sampled_weight)\n",
        "round(avg,2)"
      ],
      "metadata": {
        "id": "yqwdxG0lgDV3",
        "colab": {
          "base_uri": "https://localhost:8080/"
        },
        "outputId": "afe2802e-7af8-4209-dd4e-aac0b54f9cbd"
      },
      "execution_count": 26,
      "outputs": [
        {
          "output_type": "execute_result",
          "data": {
            "text/plain": [
              "119.46"
            ]
          },
          "metadata": {},
          "execution_count": 26
        }
      ]
    },
    {
      "cell_type": "markdown",
      "source": [
        "## Q21"
      ],
      "metadata": {
        "id": "zRJMYQzGlf3j"
      }
    },
    {
      "cell_type": "code",
      "source": [
        "# TODO\n",
        "std = np.std(sampled_weight)\n",
        "round(std,2)"
      ],
      "metadata": {
        "id": "aGWLtx7WhJ02",
        "colab": {
          "base_uri": "https://localhost:8080/"
        },
        "outputId": "312dd890-fe34-4a42-893c-9d72f9313c5a"
      },
      "execution_count": 27,
      "outputs": [
        {
          "output_type": "execute_result",
          "data": {
            "text/plain": [
              "18.32"
            ]
          },
          "metadata": {},
          "execution_count": 27
        }
      ]
    },
    {
      "cell_type": "markdown",
      "source": [
        "## Q22"
      ],
      "metadata": {
        "id": "-ZeN7ddylnNA"
      }
    },
    {
      "cell_type": "code",
      "source": [
        "# TODO\n",
        "sd = std/(1174**.5)\n",
        "round(sd*4,2)"
      ],
      "metadata": {
        "id": "83QPm5Moh7qj",
        "colab": {
          "base_uri": "https://localhost:8080/"
        },
        "outputId": "8387de49-78f4-43cd-b3be-cdba003e18d7"
      },
      "execution_count": 28,
      "outputs": [
        {
          "output_type": "execute_result",
          "data": {
            "text/plain": [
              "2.14"
            ]
          },
          "metadata": {},
          "execution_count": 28
        }
      ]
    },
    {
      "cell_type": "markdown",
      "source": [
        "# NBA Salary"
      ],
      "metadata": {
        "id": "uO21S0g1musb"
      }
    },
    {
      "cell_type": "markdown",
      "source": [
        "myData contains a random sample of NBA players whose positions are either Point Guard(PG) or Center(C) and their salaries.\n",
        "\n",
        "myData contains columns as follows:\n",
        "- POSITION: player's position in abbreviation, e.g., PG, C.\n",
        "- SALARY: salary in million dollars"
      ],
      "metadata": {
        "id": "OeHR-7_Jthb_"
      }
    },
    {
      "cell_type": "code",
      "source": [
        "nba = pd.read_csv(path_data + 'nba_salaries.csv')\n",
        "nba.rename(columns = {\"'15-'16 SALARY\":'SALARY'}, inplace=True )\n",
        "myData = nba[(nba.POSITION == 'C') | (nba.POSITION =='PG')].iloc[:,[1,3]].reset_index(drop=True)"
      ],
      "metadata": {
        "id": "OBOfzvZFqxeB"
      },
      "execution_count": 8,
      "outputs": []
    },
    {
      "cell_type": "code",
      "source": [
        "myData"
      ],
      "metadata": {
        "colab": {
          "base_uri": "https://localhost:8080/",
          "height": 424
        },
        "id": "wqKqVk6GUIoT",
        "outputId": "c15e2cb9-d436-4d37-f87e-cafb69a9e30d"
      },
      "execution_count": 10,
      "outputs": [
        {
          "output_type": "execute_result",
          "data": {
            "text/plain": [
              "    POSITION     SALARY\n",
              "0          C  12.000000\n",
              "1          C   9.756250\n",
              "2         PG   8.000000\n",
              "3         PG   1.763400\n",
              "4          C   1.000000\n",
              "..       ...        ...\n",
              "149        C  13.000000\n",
              "150        C  11.217391\n",
              "151       PG   2.170465\n",
              "152       PG   2.139000\n",
              "153        C   2.000000\n",
              "\n",
              "[154 rows x 2 columns]"
            ],
            "text/html": [
              "\n",
              "  <div id=\"df-5d6d7b76-6e1a-40b1-abb5-9d18177563bf\">\n",
              "    <div class=\"colab-df-container\">\n",
              "      <div>\n",
              "<style scoped>\n",
              "    .dataframe tbody tr th:only-of-type {\n",
              "        vertical-align: middle;\n",
              "    }\n",
              "\n",
              "    .dataframe tbody tr th {\n",
              "        vertical-align: top;\n",
              "    }\n",
              "\n",
              "    .dataframe thead th {\n",
              "        text-align: right;\n",
              "    }\n",
              "</style>\n",
              "<table border=\"1\" class=\"dataframe\">\n",
              "  <thead>\n",
              "    <tr style=\"text-align: right;\">\n",
              "      <th></th>\n",
              "      <th>POSITION</th>\n",
              "      <th>SALARY</th>\n",
              "    </tr>\n",
              "  </thead>\n",
              "  <tbody>\n",
              "    <tr>\n",
              "      <th>0</th>\n",
              "      <td>C</td>\n",
              "      <td>12.000000</td>\n",
              "    </tr>\n",
              "    <tr>\n",
              "      <th>1</th>\n",
              "      <td>C</td>\n",
              "      <td>9.756250</td>\n",
              "    </tr>\n",
              "    <tr>\n",
              "      <th>2</th>\n",
              "      <td>PG</td>\n",
              "      <td>8.000000</td>\n",
              "    </tr>\n",
              "    <tr>\n",
              "      <th>3</th>\n",
              "      <td>PG</td>\n",
              "      <td>1.763400</td>\n",
              "    </tr>\n",
              "    <tr>\n",
              "      <th>4</th>\n",
              "      <td>C</td>\n",
              "      <td>1.000000</td>\n",
              "    </tr>\n",
              "    <tr>\n",
              "      <th>...</th>\n",
              "      <td>...</td>\n",
              "      <td>...</td>\n",
              "    </tr>\n",
              "    <tr>\n",
              "      <th>149</th>\n",
              "      <td>C</td>\n",
              "      <td>13.000000</td>\n",
              "    </tr>\n",
              "    <tr>\n",
              "      <th>150</th>\n",
              "      <td>C</td>\n",
              "      <td>11.217391</td>\n",
              "    </tr>\n",
              "    <tr>\n",
              "      <th>151</th>\n",
              "      <td>PG</td>\n",
              "      <td>2.170465</td>\n",
              "    </tr>\n",
              "    <tr>\n",
              "      <th>152</th>\n",
              "      <td>PG</td>\n",
              "      <td>2.139000</td>\n",
              "    </tr>\n",
              "    <tr>\n",
              "      <th>153</th>\n",
              "      <td>C</td>\n",
              "      <td>2.000000</td>\n",
              "    </tr>\n",
              "  </tbody>\n",
              "</table>\n",
              "<p>154 rows × 2 columns</p>\n",
              "</div>\n",
              "      <button class=\"colab-df-convert\" onclick=\"convertToInteractive('df-5d6d7b76-6e1a-40b1-abb5-9d18177563bf')\"\n",
              "              title=\"Convert this dataframe to an interactive table.\"\n",
              "              style=\"display:none;\">\n",
              "        \n",
              "  <svg xmlns=\"http://www.w3.org/2000/svg\" height=\"24px\"viewBox=\"0 0 24 24\"\n",
              "       width=\"24px\">\n",
              "    <path d=\"M0 0h24v24H0V0z\" fill=\"none\"/>\n",
              "    <path d=\"M18.56 5.44l.94 2.06.94-2.06 2.06-.94-2.06-.94-.94-2.06-.94 2.06-2.06.94zm-11 1L8.5 8.5l.94-2.06 2.06-.94-2.06-.94L8.5 2.5l-.94 2.06-2.06.94zm10 10l.94 2.06.94-2.06 2.06-.94-2.06-.94-.94-2.06-.94 2.06-2.06.94z\"/><path d=\"M17.41 7.96l-1.37-1.37c-.4-.4-.92-.59-1.43-.59-.52 0-1.04.2-1.43.59L10.3 9.45l-7.72 7.72c-.78.78-.78 2.05 0 2.83L4 21.41c.39.39.9.59 1.41.59.51 0 1.02-.2 1.41-.59l7.78-7.78 2.81-2.81c.8-.78.8-2.07 0-2.86zM5.41 20L4 18.59l7.72-7.72 1.47 1.35L5.41 20z\"/>\n",
              "  </svg>\n",
              "      </button>\n",
              "      \n",
              "  <style>\n",
              "    .colab-df-container {\n",
              "      display:flex;\n",
              "      flex-wrap:wrap;\n",
              "      gap: 12px;\n",
              "    }\n",
              "\n",
              "    .colab-df-convert {\n",
              "      background-color: #E8F0FE;\n",
              "      border: none;\n",
              "      border-radius: 50%;\n",
              "      cursor: pointer;\n",
              "      display: none;\n",
              "      fill: #1967D2;\n",
              "      height: 32px;\n",
              "      padding: 0 0 0 0;\n",
              "      width: 32px;\n",
              "    }\n",
              "\n",
              "    .colab-df-convert:hover {\n",
              "      background-color: #E2EBFA;\n",
              "      box-shadow: 0px 1px 2px rgba(60, 64, 67, 0.3), 0px 1px 3px 1px rgba(60, 64, 67, 0.15);\n",
              "      fill: #174EA6;\n",
              "    }\n",
              "\n",
              "    [theme=dark] .colab-df-convert {\n",
              "      background-color: #3B4455;\n",
              "      fill: #D2E3FC;\n",
              "    }\n",
              "\n",
              "    [theme=dark] .colab-df-convert:hover {\n",
              "      background-color: #434B5C;\n",
              "      box-shadow: 0px 1px 3px 1px rgba(0, 0, 0, 0.15);\n",
              "      filter: drop-shadow(0px 1px 2px rgba(0, 0, 0, 0.3));\n",
              "      fill: #FFFFFF;\n",
              "    }\n",
              "  </style>\n",
              "\n",
              "      <script>\n",
              "        const buttonEl =\n",
              "          document.querySelector('#df-5d6d7b76-6e1a-40b1-abb5-9d18177563bf button.colab-df-convert');\n",
              "        buttonEl.style.display =\n",
              "          google.colab.kernel.accessAllowed ? 'block' : 'none';\n",
              "\n",
              "        async function convertToInteractive(key) {\n",
              "          const element = document.querySelector('#df-5d6d7b76-6e1a-40b1-abb5-9d18177563bf');\n",
              "          const dataTable =\n",
              "            await google.colab.kernel.invokeFunction('convertToInteractive',\n",
              "                                                     [key], {});\n",
              "          if (!dataTable) return;\n",
              "\n",
              "          const docLinkHtml = 'Like what you see? Visit the ' +\n",
              "            '<a target=\"_blank\" href=https://colab.research.google.com/notebooks/data_table.ipynb>data table notebook</a>'\n",
              "            + ' to learn more about interactive tables.';\n",
              "          element.innerHTML = '';\n",
              "          dataTable['output_type'] = 'display_data';\n",
              "          await google.colab.output.renderOutput(dataTable, element);\n",
              "          const docLink = document.createElement('div');\n",
              "          docLink.innerHTML = docLinkHtml;\n",
              "          element.appendChild(docLink);\n",
              "        }\n",
              "      </script>\n",
              "    </div>\n",
              "  </div>\n",
              "  "
            ]
          },
          "metadata": {},
          "execution_count": 10
        }
      ]
    },
    {
      "cell_type": "markdown",
      "source": [
        "## Q24"
      ],
      "metadata": {
        "id": "TPvWSIzquOY9"
      }
    },
    {
      "cell_type": "code",
      "source": [
        "def test_statistic(df, variable, group_label):\n",
        "    # TODO\n",
        "    temp = df.groupby(group_label)[variable].mean(variable).reset_index(name = 'mean')\n",
        "    return abs(temp['mean'][0]-temp['mean'][1]) # TODO\n",
        "\n",
        "test_statistic(myData, 'SALARY', 'POSITION')"
      ],
      "metadata": {
        "id": "5iiRFS5FsHTU",
        "colab": {
          "base_uri": "https://localhost:8080/"
        },
        "outputId": "2fc0ee28-044b-4509-f125-e6b26d366545"
      },
      "execution_count": 107,
      "outputs": [
        {
          "output_type": "execute_result",
          "data": {
            "text/plain": [
              "0.9174258910485937"
            ]
          },
          "metadata": {},
          "execution_count": 107
        }
      ]
    },
    {
      "cell_type": "markdown",
      "source": [
        "## Q25"
      ],
      "metadata": {
        "id": "4W-b-VubytBO"
      }
    },
    {
      "cell_type": "code",
      "source": [
        "# TODO\n",
        "def one_simulated_difference(df, variable, group_label):\n",
        "    shuffled_labels = np.array(df[group_label].sample(len(df[group_label]),replace=False))\n",
        "    shuffled_table = df.copy()\n",
        "    shuffled_table['Shuffled Label'] = shuffled_labels\n",
        "    return test_statistic(shuffled_table, variable, 'Shuffled Label')"
      ],
      "metadata": {
        "id": "F11eFvDBz1W5"
      },
      "execution_count": 101,
      "outputs": []
    },
    {
      "cell_type": "code",
      "source": [
        "diffs = np.array([])\n",
        "repetitions = 10000\n",
        "\n",
        "for i in np.arange(repetitions):\n",
        "    # TODO\n",
        "    temp = one_simulated_difference(myData,'SALARY','POSITION')\n",
        "    diffs = np.append(diffs,temp)\n",
        "\n",
        "empirical_p = np.count_nonzero(diffs>=test_statistic(myData, 'SALARY', 'POSITION'))/repetitions # TODO\n",
        "empirical_p"
      ],
      "metadata": {
        "id": "hxWrNavuzlCi",
        "colab": {
          "base_uri": "https://localhost:8080/"
        },
        "outputId": "2bed53a4-e079-4039-fc21-dbb42a4db150"
      },
      "execution_count": 112,
      "outputs": [
        {
          "output_type": "execute_result",
          "data": {
            "text/plain": [
              "0.2768"
            ]
          },
          "metadata": {},
          "execution_count": 112
        }
      ]
    },
    {
      "cell_type": "markdown",
      "source": [
        "Have you transferred your answers to the answer sheet?"
      ],
      "metadata": {
        "id": "wHEgQ7o6y8UN"
      }
    }
  ]
}