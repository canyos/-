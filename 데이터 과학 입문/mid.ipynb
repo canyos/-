{
  "nbformat": 4,
  "nbformat_minor": 0,
  "metadata": {
    "colab": {
      "provenance": [],
      "toc_visible": true
    },
    "kernelspec": {
      "name": "python3",
      "display_name": "Python 3"
    },
    "language_info": {
      "name": "python"
    }
  },
  "cells": [
    {
      "cell_type": "markdown",
      "source": [
        "# IDS 2023 Midterm"
      ],
      "metadata": {
        "id": "Z1leSb8gzOKh"
      }
    },
    {
      "cell_type": "markdown",
      "source": [
        "Please replace the \"empty\" in the file name field with your student ID. For instance, \"IDS2023_midterm_202255123.ipynb\". Once you have finished, **you will need to upload this file to PLATO.**\n",
        "\n",
        "For sub-questions (a) to (g), please utilize the code blocks given below. If necessary, you can include additional code blocks.\n",
        "\n",
        "Remember to record your answers on the answer sheet and not forget to submit it."
      ],
      "metadata": {
        "id": "nzSrmwWUzUS1"
      }
    },
    {
      "cell_type": "markdown",
      "source": [
        "## Import packages"
      ],
      "metadata": {
        "id": "i5MgrJpruvJq"
      }
    },
    {
      "cell_type": "code",
      "execution_count": 34,
      "metadata": {
        "id": "y67M1GdsyOcl"
      },
      "outputs": [],
      "source": [
        "# TODO:\n",
        "from datascience import *\n",
        "import numpy as np\n",
        "import pandas as pd\n",
        "%matplotlib inline\n",
        "import matplotlib.pyplot as plots\n"
      ]
    },
    {
      "cell_type": "markdown",
      "source": [
        "## Load data\n"
      ],
      "metadata": {
        "id": "akd_5pnvvUvx"
      }
    },
    {
      "cell_type": "code",
      "source": [
        "# TODO\n",
        "Jaemin  = Table().read_table(\"https://raw.githubusercontent.com/mlee-pnu/IDS/main/Midterm/nba_salaries_1.csv\")\n",
        "Jonghoon = Table().read_table(\"https://raw.githubusercontent.com/mlee-pnu/IDS/main/Midterm/nba_salaries_2.csv\")\n",
        "Jungmi = Table().read_table(\"https://raw.githubusercontent.com/mlee-pnu/IDS/main/Midterm/nba_goods.csv\")"
      ],
      "metadata": {
        "id": "i9-kmR0I7w-n"
      },
      "execution_count": 43,
      "outputs": []
    },
    {
      "cell_type": "markdown",
      "source": [
        "## Q8-1"
      ],
      "metadata": {
        "id": "tMr9mFlpwAKW"
      }
    },
    {
      "cell_type": "code",
      "source": [
        "# TODO\n",
        "np.sum(Jungmi.column('GOODS'))"
      ],
      "metadata": {
        "id": "7zhmzqJ-xkgG",
        "colab": {
          "base_uri": "https://localhost:8080/"
        },
        "outputId": "0bb4c096-34dc-437c-a479-3f577f3feb6d"
      },
      "execution_count": 23,
      "outputs": [
        {
          "output_type": "execute_result",
          "data": {
            "text/plain": [
              "792"
            ]
          },
          "metadata": {},
          "execution_count": 23
        }
      ]
    },
    {
      "cell_type": "markdown",
      "source": [
        "## Q8-2"
      ],
      "metadata": {
        "id": "lBJPVzu4wFfp"
      }
    },
    {
      "cell_type": "code",
      "source": [
        "# TODO\n",
        "maxM = max(Jungmi.column('GOODS'))\n",
        "Jungmi.where('GOODS',are.equal_to(maxM))"
      ],
      "metadata": {
        "id": "d_sqdoAYxqmK",
        "colab": {
          "base_uri": "https://localhost:8080/",
          "height": 81
        },
        "outputId": "f3204268-4376-4165-c88f-298ad94bf63e"
      },
      "execution_count": 28,
      "outputs": [
        {
          "output_type": "execute_result",
          "data": {
            "text/plain": [
              "PLAYER     | GOODS\n",
              "Chris Paul | 11"
            ],
            "text/html": [
              "<table border=\"1\" class=\"dataframe\">\n",
              "    <thead>\n",
              "        <tr>\n",
              "            <th>PLAYER</th> <th>GOODS</th>\n",
              "        </tr>\n",
              "    </thead>\n",
              "    <tbody>\n",
              "        <tr>\n",
              "            <td>Chris Paul</td> <td>11   </td>\n",
              "        </tr>\n",
              "    </tbody>\n",
              "</table>"
            ]
          },
          "metadata": {},
          "execution_count": 28
        }
      ]
    },
    {
      "cell_type": "markdown",
      "source": [
        "## Q8-3"
      ],
      "metadata": {
        "id": "YgMlH1L1wWae"
      }
    },
    {
      "cell_type": "code",
      "source": [
        "# TODO\n",
        "pJaemin = Jaemin.to_df()\n",
        "pJonghoon = Jonghoon.to_df()\n",
        "pJungmi = Jungmi.to_df()\n",
        "pd.concat([pJaemin,pJonghoon]).groupby('TEAM').count().shape\n"
      ],
      "metadata": {
        "id": "4qH-2kX8xrKW",
        "colab": {
          "base_uri": "https://localhost:8080/"
        },
        "outputId": "482a745f-8719-4a48-fcd8-5d44cab19786"
      },
      "execution_count": 48,
      "outputs": [
        {
          "output_type": "execute_result",
          "data": {
            "text/plain": [
              "(30, 3)"
            ]
          },
          "metadata": {},
          "execution_count": 48
        }
      ]
    },
    {
      "cell_type": "markdown",
      "source": [
        "## Q8-4"
      ],
      "metadata": {
        "id": "CluJs4BDwddA"
      }
    },
    {
      "cell_type": "code",
      "source": [
        "# TODO\n",
        "pd.concat([pJaemin,pJonghoon]).join(pJungmi.set_index(['PLAYER']),on=['PLAYER']).groupby('TEAM').sum()['GOODS'].reset_index(name='sum').sort_values(by=['sum'],axis=0,ascending=False).head(1)"
      ],
      "metadata": {
        "id": "XHVeHG23xryH",
        "colab": {
          "base_uri": "https://localhost:8080/",
          "height": 137
        },
        "outputId": "b4ed0912-b0d9-440f-fab4-40af56c03589"
      },
      "execution_count": 53,
      "outputs": [
        {
          "output_type": "stream",
          "name": "stderr",
          "text": [
            "<ipython-input-53-4903e8fe45a4>:2: FutureWarning: The default value of numeric_only in DataFrameGroupBy.sum is deprecated. In a future version, numeric_only will default to False. Either specify numeric_only or select only columns which should be valid for the function.\n",
            "  pd.concat([pJaemin,pJonghoon]).join(pJungmi.set_index(['PLAYER']),on=['PLAYER']).groupby('TEAM').sum()['GOODS'].reset_index(name='sum').sort_values(by=['sum'],axis=0,ascending=False).head(1)\n"
          ]
        },
        {
          "output_type": "execute_result",
          "data": {
            "text/plain": [
              "                  TEAM  sum\n",
              "5  Cleveland Cavaliers   48"
            ],
            "text/html": [
              "\n",
              "  <div id=\"df-f0c8e8bc-df28-48a1-ad5e-c02908c926d7\">\n",
              "    <div class=\"colab-df-container\">\n",
              "      <div>\n",
              "<style scoped>\n",
              "    .dataframe tbody tr th:only-of-type {\n",
              "        vertical-align: middle;\n",
              "    }\n",
              "\n",
              "    .dataframe tbody tr th {\n",
              "        vertical-align: top;\n",
              "    }\n",
              "\n",
              "    .dataframe thead th {\n",
              "        text-align: right;\n",
              "    }\n",
              "</style>\n",
              "<table border=\"1\" class=\"dataframe\">\n",
              "  <thead>\n",
              "    <tr style=\"text-align: right;\">\n",
              "      <th></th>\n",
              "      <th>TEAM</th>\n",
              "      <th>sum</th>\n",
              "    </tr>\n",
              "  </thead>\n",
              "  <tbody>\n",
              "    <tr>\n",
              "      <th>5</th>\n",
              "      <td>Cleveland Cavaliers</td>\n",
              "      <td>48</td>\n",
              "    </tr>\n",
              "  </tbody>\n",
              "</table>\n",
              "</div>\n",
              "      <button class=\"colab-df-convert\" onclick=\"convertToInteractive('df-f0c8e8bc-df28-48a1-ad5e-c02908c926d7')\"\n",
              "              title=\"Convert this dataframe to an interactive table.\"\n",
              "              style=\"display:none;\">\n",
              "        \n",
              "  <svg xmlns=\"http://www.w3.org/2000/svg\" height=\"24px\"viewBox=\"0 0 24 24\"\n",
              "       width=\"24px\">\n",
              "    <path d=\"M0 0h24v24H0V0z\" fill=\"none\"/>\n",
              "    <path d=\"M18.56 5.44l.94 2.06.94-2.06 2.06-.94-2.06-.94-.94-2.06-.94 2.06-2.06.94zm-11 1L8.5 8.5l.94-2.06 2.06-.94-2.06-.94L8.5 2.5l-.94 2.06-2.06.94zm10 10l.94 2.06.94-2.06 2.06-.94-2.06-.94-.94-2.06-.94 2.06-2.06.94z\"/><path d=\"M17.41 7.96l-1.37-1.37c-.4-.4-.92-.59-1.43-.59-.52 0-1.04.2-1.43.59L10.3 9.45l-7.72 7.72c-.78.78-.78 2.05 0 2.83L4 21.41c.39.39.9.59 1.41.59.51 0 1.02-.2 1.41-.59l7.78-7.78 2.81-2.81c.8-.78.8-2.07 0-2.86zM5.41 20L4 18.59l7.72-7.72 1.47 1.35L5.41 20z\"/>\n",
              "  </svg>\n",
              "      </button>\n",
              "      \n",
              "  <style>\n",
              "    .colab-df-container {\n",
              "      display:flex;\n",
              "      flex-wrap:wrap;\n",
              "      gap: 12px;\n",
              "    }\n",
              "\n",
              "    .colab-df-convert {\n",
              "      background-color: #E8F0FE;\n",
              "      border: none;\n",
              "      border-radius: 50%;\n",
              "      cursor: pointer;\n",
              "      display: none;\n",
              "      fill: #1967D2;\n",
              "      height: 32px;\n",
              "      padding: 0 0 0 0;\n",
              "      width: 32px;\n",
              "    }\n",
              "\n",
              "    .colab-df-convert:hover {\n",
              "      background-color: #E2EBFA;\n",
              "      box-shadow: 0px 1px 2px rgba(60, 64, 67, 0.3), 0px 1px 3px 1px rgba(60, 64, 67, 0.15);\n",
              "      fill: #174EA6;\n",
              "    }\n",
              "\n",
              "    [theme=dark] .colab-df-convert {\n",
              "      background-color: #3B4455;\n",
              "      fill: #D2E3FC;\n",
              "    }\n",
              "\n",
              "    [theme=dark] .colab-df-convert:hover {\n",
              "      background-color: #434B5C;\n",
              "      box-shadow: 0px 1px 3px 1px rgba(0, 0, 0, 0.15);\n",
              "      filter: drop-shadow(0px 1px 2px rgba(0, 0, 0, 0.3));\n",
              "      fill: #FFFFFF;\n",
              "    }\n",
              "  </style>\n",
              "\n",
              "      <script>\n",
              "        const buttonEl =\n",
              "          document.querySelector('#df-f0c8e8bc-df28-48a1-ad5e-c02908c926d7 button.colab-df-convert');\n",
              "        buttonEl.style.display =\n",
              "          google.colab.kernel.accessAllowed ? 'block' : 'none';\n",
              "\n",
              "        async function convertToInteractive(key) {\n",
              "          const element = document.querySelector('#df-f0c8e8bc-df28-48a1-ad5e-c02908c926d7');\n",
              "          const dataTable =\n",
              "            await google.colab.kernel.invokeFunction('convertToInteractive',\n",
              "                                                     [key], {});\n",
              "          if (!dataTable) return;\n",
              "\n",
              "          const docLinkHtml = 'Like what you see? Visit the ' +\n",
              "            '<a target=\"_blank\" href=https://colab.research.google.com/notebooks/data_table.ipynb>data table notebook</a>'\n",
              "            + ' to learn more about interactive tables.';\n",
              "          element.innerHTML = '';\n",
              "          dataTable['output_type'] = 'display_data';\n",
              "          await google.colab.output.renderOutput(dataTable, element);\n",
              "          const docLink = document.createElement('div');\n",
              "          docLink.innerHTML = docLinkHtml;\n",
              "          element.appendChild(docLink);\n",
              "        }\n",
              "      </script>\n",
              "    </div>\n",
              "  </div>\n",
              "  "
            ]
          },
          "metadata": {},
          "execution_count": 53
        }
      ]
    },
    {
      "cell_type": "markdown",
      "source": [
        "## Q8-5"
      ],
      "metadata": {
        "id": "CIf-kYshwhGf"
      }
    },
    {
      "cell_type": "code",
      "source": [
        "# TODO\n",
        "pd.concat([pJaemin,pJonghoon]).join(pJungmi.set_index(['PLAYER']),on=['PLAYER']).groupby('TEAM').mean()['GOODS'].reset_index(name='sum').sort_values(by=['sum'],axis=0,ascending=False).head(2)"
      ],
      "metadata": {
        "id": "4M5-gzi2xsdv",
        "colab": {
          "base_uri": "https://localhost:8080/",
          "height": 169
        },
        "outputId": "1b0cf235-322f-42b4-d3a2-3de4c9ef1180"
      },
      "execution_count": 54,
      "outputs": [
        {
          "output_type": "stream",
          "name": "stderr",
          "text": [
            "<ipython-input-54-b8bcebfa16c9>:2: FutureWarning: The default value of numeric_only in DataFrameGroupBy.mean is deprecated. In a future version, numeric_only will default to False. Either specify numeric_only or select only columns which should be valid for the function.\n",
            "  pd.concat([pJaemin,pJonghoon]).join(pJungmi.set_index(['PLAYER']),on=['PLAYER']).groupby('TEAM').mean()['GOODS'].reset_index(name='sum').sort_values(by=['sum'],axis=0,ascending=False).head(2)\n"
          ]
        },
        {
          "output_type": "execute_result",
          "data": {
            "text/plain": [
              "                  TEAM       sum\n",
              "5  Cleveland Cavaliers  4.800000\n",
              "4        Chicago Bulls  2.666667"
            ],
            "text/html": [
              "\n",
              "  <div id=\"df-036deabf-94d3-4237-b1ef-992d4142576a\">\n",
              "    <div class=\"colab-df-container\">\n",
              "      <div>\n",
              "<style scoped>\n",
              "    .dataframe tbody tr th:only-of-type {\n",
              "        vertical-align: middle;\n",
              "    }\n",
              "\n",
              "    .dataframe tbody tr th {\n",
              "        vertical-align: top;\n",
              "    }\n",
              "\n",
              "    .dataframe thead th {\n",
              "        text-align: right;\n",
              "    }\n",
              "</style>\n",
              "<table border=\"1\" class=\"dataframe\">\n",
              "  <thead>\n",
              "    <tr style=\"text-align: right;\">\n",
              "      <th></th>\n",
              "      <th>TEAM</th>\n",
              "      <th>sum</th>\n",
              "    </tr>\n",
              "  </thead>\n",
              "  <tbody>\n",
              "    <tr>\n",
              "      <th>5</th>\n",
              "      <td>Cleveland Cavaliers</td>\n",
              "      <td>4.800000</td>\n",
              "    </tr>\n",
              "    <tr>\n",
              "      <th>4</th>\n",
              "      <td>Chicago Bulls</td>\n",
              "      <td>2.666667</td>\n",
              "    </tr>\n",
              "  </tbody>\n",
              "</table>\n",
              "</div>\n",
              "      <button class=\"colab-df-convert\" onclick=\"convertToInteractive('df-036deabf-94d3-4237-b1ef-992d4142576a')\"\n",
              "              title=\"Convert this dataframe to an interactive table.\"\n",
              "              style=\"display:none;\">\n",
              "        \n",
              "  <svg xmlns=\"http://www.w3.org/2000/svg\" height=\"24px\"viewBox=\"0 0 24 24\"\n",
              "       width=\"24px\">\n",
              "    <path d=\"M0 0h24v24H0V0z\" fill=\"none\"/>\n",
              "    <path d=\"M18.56 5.44l.94 2.06.94-2.06 2.06-.94-2.06-.94-.94-2.06-.94 2.06-2.06.94zm-11 1L8.5 8.5l.94-2.06 2.06-.94-2.06-.94L8.5 2.5l-.94 2.06-2.06.94zm10 10l.94 2.06.94-2.06 2.06-.94-2.06-.94-.94-2.06-.94 2.06-2.06.94z\"/><path d=\"M17.41 7.96l-1.37-1.37c-.4-.4-.92-.59-1.43-.59-.52 0-1.04.2-1.43.59L10.3 9.45l-7.72 7.72c-.78.78-.78 2.05 0 2.83L4 21.41c.39.39.9.59 1.41.59.51 0 1.02-.2 1.41-.59l7.78-7.78 2.81-2.81c.8-.78.8-2.07 0-2.86zM5.41 20L4 18.59l7.72-7.72 1.47 1.35L5.41 20z\"/>\n",
              "  </svg>\n",
              "      </button>\n",
              "      \n",
              "  <style>\n",
              "    .colab-df-container {\n",
              "      display:flex;\n",
              "      flex-wrap:wrap;\n",
              "      gap: 12px;\n",
              "    }\n",
              "\n",
              "    .colab-df-convert {\n",
              "      background-color: #E8F0FE;\n",
              "      border: none;\n",
              "      border-radius: 50%;\n",
              "      cursor: pointer;\n",
              "      display: none;\n",
              "      fill: #1967D2;\n",
              "      height: 32px;\n",
              "      padding: 0 0 0 0;\n",
              "      width: 32px;\n",
              "    }\n",
              "\n",
              "    .colab-df-convert:hover {\n",
              "      background-color: #E2EBFA;\n",
              "      box-shadow: 0px 1px 2px rgba(60, 64, 67, 0.3), 0px 1px 3px 1px rgba(60, 64, 67, 0.15);\n",
              "      fill: #174EA6;\n",
              "    }\n",
              "\n",
              "    [theme=dark] .colab-df-convert {\n",
              "      background-color: #3B4455;\n",
              "      fill: #D2E3FC;\n",
              "    }\n",
              "\n",
              "    [theme=dark] .colab-df-convert:hover {\n",
              "      background-color: #434B5C;\n",
              "      box-shadow: 0px 1px 3px 1px rgba(0, 0, 0, 0.15);\n",
              "      filter: drop-shadow(0px 1px 2px rgba(0, 0, 0, 0.3));\n",
              "      fill: #FFFFFF;\n",
              "    }\n",
              "  </style>\n",
              "\n",
              "      <script>\n",
              "        const buttonEl =\n",
              "          document.querySelector('#df-036deabf-94d3-4237-b1ef-992d4142576a button.colab-df-convert');\n",
              "        buttonEl.style.display =\n",
              "          google.colab.kernel.accessAllowed ? 'block' : 'none';\n",
              "\n",
              "        async function convertToInteractive(key) {\n",
              "          const element = document.querySelector('#df-036deabf-94d3-4237-b1ef-992d4142576a');\n",
              "          const dataTable =\n",
              "            await google.colab.kernel.invokeFunction('convertToInteractive',\n",
              "                                                     [key], {});\n",
              "          if (!dataTable) return;\n",
              "\n",
              "          const docLinkHtml = 'Like what you see? Visit the ' +\n",
              "            '<a target=\"_blank\" href=https://colab.research.google.com/notebooks/data_table.ipynb>data table notebook</a>'\n",
              "            + ' to learn more about interactive tables.';\n",
              "          element.innerHTML = '';\n",
              "          dataTable['output_type'] = 'display_data';\n",
              "          await google.colab.output.renderOutput(dataTable, element);\n",
              "          const docLink = document.createElement('div');\n",
              "          docLink.innerHTML = docLinkHtml;\n",
              "          element.appendChild(docLink);\n",
              "        }\n",
              "      </script>\n",
              "    </div>\n",
              "  </div>\n",
              "  "
            ]
          },
          "metadata": {},
          "execution_count": 54
        }
      ]
    },
    {
      "cell_type": "markdown",
      "source": [
        "## Q8-6"
      ],
      "metadata": {
        "id": "qdPgtMnWwte4"
      }
    },
    {
      "cell_type": "code",
      "source": [
        "# TODO\n",
        "temp = pd.concat([pJaemin,pJonghoon])\n",
        "temp\n",
        "temp[(temp['SALARY']>=10) & (temp['SALARY']<12)].shape"
      ],
      "metadata": {
        "id": "pW6RbJN3xtUj",
        "colab": {
          "base_uri": "https://localhost:8080/"
        },
        "outputId": "8d806015-a388-4c2a-a8a0-dfe6cb567b6f"
      },
      "execution_count": 62,
      "outputs": [
        {
          "output_type": "execute_result",
          "data": {
            "text/plain": [
              "(15, 4)"
            ]
          },
          "metadata": {},
          "execution_count": 62
        }
      ]
    },
    {
      "cell_type": "markdown",
      "source": [
        "## Q8-7"
      ],
      "metadata": {
        "id": "6lKT1gWowwKE"
      }
    },
    {
      "cell_type": "code",
      "source": [
        "# TODO\n",
        "np.mean(np.array(temp[temp['POSITION']=='PF']['SALARY']))"
      ],
      "metadata": {
        "id": "j7RXd3_Oxt2e",
        "colab": {
          "base_uri": "https://localhost:8080/"
        },
        "outputId": "eead951d-0827-46cc-8d86-c1184cf04fcd"
      },
      "execution_count": 66,
      "outputs": [
        {
          "output_type": "execute_result",
          "data": {
            "text/plain": [
              "4.9513435411764712"
            ]
          },
          "metadata": {},
          "execution_count": 66
        }
      ]
    },
    {
      "cell_type": "markdown",
      "source": [
        "Have you transferred your answers to the answer sheet?"
      ],
      "metadata": {
        "id": "wHEgQ7o6y8UN"
      }
    }
  ]
}